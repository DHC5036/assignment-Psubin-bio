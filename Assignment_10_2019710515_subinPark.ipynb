{
  "nbformat": 4,
  "nbformat_minor": 0,
  "metadata": {
    "kernelspec": {
      "language": "python",
      "display_name": "Python 3",
      "name": "python3"
    },
    "language_info": {
      "name": "python",
      "version": "3.7.9",
      "mimetype": "text/x-python",
      "codemirror_mode": {
        "name": "ipython",
        "version": 3
      },
      "pygments_lexer": "ipython3",
      "nbconvert_exporter": "python",
      "file_extension": ".py"
    },
    "colab": {
      "name": "Assignment#10.ipynb",
      "provenance": []
    }
  },
  "cells": [
    {
      "cell_type": "code",
      "metadata": {
        "pycharm": {
          "is_executing": false
        },
        "trusted": true,
        "id": "0J-GCn2V4P9O"
      },
      "source": [
        "#!pip install d2l\n",
        "import torch\n",
        "from torch import nn\n",
        "from d2l import torch as d2l\n",
        "\n",
        "batch_size, max_window_size, num_noise_words = 512, 5, 5\n",
        "data_iter, vocab = d2l.load_data_ptb(batch_size, max_window_size,\n",
        "                                     num_noise_words)"
      ],
      "execution_count": null,
      "outputs": []
    },
    {
      "cell_type": "code",
      "metadata": {
        "pycharm": {
          "is_executing": false,
          "name": "#%%\n"
        },
        "trusted": true,
        "colab": {
          "base_uri": "https://localhost:8080/"
        },
        "id": "5SYREbZc4P9W",
        "outputId": "d865fe52-372c-4af5-dbf4-467763449a61"
      },
      "source": [
        "embed = nn.Embedding(num_embeddings=20, embedding_dim=4)\n",
        "print(f'Parameter embedding_weight ({embed.weight.shape}, '\n",
        "      'dtype={embed.weight.dtype})')"
      ],
      "execution_count": 12,
      "outputs": [
        {
          "output_type": "stream",
          "text": [
            "Parameter embedding_weight (torch.Size([20, 4]), dtype={embed.weight.dtype})\n"
          ],
          "name": "stdout"
        }
      ]
    },
    {
      "cell_type": "code",
      "metadata": {
        "trusted": true,
        "colab": {
          "base_uri": "https://localhost:8080/"
        },
        "id": "SxXuZYS14P9Y",
        "outputId": "556dba6f-8817-4b1a-d054-b0e014965d4e"
      },
      "source": [
        "x = torch.tensor([[1, 2, 3], [4, 5, 6]])\n",
        "embed(x)"
      ],
      "execution_count": 13,
      "outputs": [
        {
          "output_type": "execute_result",
          "data": {
            "text/plain": [
              "tensor([[[ 1.4743, -1.8477, -0.0442,  0.6067],\n",
              "         [-2.0036, -0.1232,  0.5672, -1.0323],\n",
              "         [ 0.5882, -0.6870,  1.3224, -1.3498]],\n",
              "\n",
              "        [[ 0.3389,  0.8951, -1.6349, -1.6618],\n",
              "         [ 0.5121, -0.9549,  0.4177,  1.2872],\n",
              "         [-0.6950, -0.4782,  0.6976,  1.2563]]], grad_fn=<EmbeddingBackward>)"
            ]
          },
          "metadata": {
            "tags": []
          },
          "execution_count": 13
        }
      ]
    },
    {
      "cell_type": "markdown",
      "metadata": {
        "id": "MrHFF8Sy4P9Z"
      },
      "source": [
        "**Implemented skip-gram to CBOW**"
      ]
    },
    {
      "cell_type": "code",
      "metadata": {
        "trusted": true,
        "id": "8Exdt8d54P9Z"
      },
      "source": [
        "def skip_gram(center, contexts_and_negatives, embed_v, embed_u):\n",
        "    v = embed_v(center)\n",
        "    u = embed_u(contexts_and_negatives)\n",
        "    pred = torch.bmm(v, u.permute(0, 2, 1))\n",
        "    return pred"
      ],
      "execution_count": 14,
      "outputs": []
    },
    {
      "cell_type": "code",
      "metadata": {
        "trusted": true,
        "colab": {
          "base_uri": "https://localhost:8080/"
        },
        "id": "HWLzWxko4P9a",
        "outputId": "79a07ff8-69d1-47f1-ceba-d675fafd3f4e"
      },
      "source": [
        "skip_gram(torch.ones((2, 1), dtype=torch.long),\n",
        "          torch.ones((2, 4), dtype=torch.long), embed, embed).shape"
      ],
      "execution_count": 15,
      "outputs": [
        {
          "output_type": "execute_result",
          "data": {
            "text/plain": [
              "torch.Size([2, 1, 4])"
            ]
          },
          "metadata": {
            "tags": []
          },
          "execution_count": 15
        }
      ]
    },
    {
      "cell_type": "markdown",
      "metadata": {
        "id": "NLEWO2rzAeTV"
      },
      "source": [
        "**CBOW**"
      ]
    },
    {
      "cell_type": "code",
      "metadata": {
        "id": "f6pIQOI56nDz"
      },
      "source": [
        "def CBOW(contexts, center_negative, masks, embed_v, embed_u):\n",
        "    v = embed_v(contexts).sum(dim=1) /  masks.sum(dim=-1).view(-1, 1)\n",
        "    u = embed_u(center_negative)\n",
        "    pred = torch.bmm(v[:, None, :], u.permute(0, 2, 1))\n",
        "    return pred"
      ],
      "execution_count": 16,
      "outputs": []
    },
    {
      "cell_type": "code",
      "metadata": {
        "colab": {
          "base_uri": "https://localhost:8080/"
        },
        "id": "G7IdldtyB6gM",
        "outputId": "98f882f5-a3f1-406f-eaaf-f363c4a784f8"
      },
      "source": [
        "CBOW(torch.ones((2, 1), dtype=torch.long),\n",
        "          torch.ones((2, 6), dtype=torch.long), torch.ones((2, 6), dtype=torch.long), embed, embed).shape"
      ],
      "execution_count": 17,
      "outputs": [
        {
          "output_type": "execute_result",
          "data": {
            "text/plain": [
              "torch.Size([2, 1, 6])"
            ]
          },
          "metadata": {
            "tags": []
          },
          "execution_count": 17
        }
      ]
    }
  ]
}